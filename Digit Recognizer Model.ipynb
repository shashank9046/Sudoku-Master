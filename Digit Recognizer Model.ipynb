{
 "cells": [
  {
   "cell_type": "code",
   "execution_count": 1,
   "metadata": {},
   "outputs": [],
   "source": [
    "import tensorflow as tf\n",
    "import numpy as np\n",
    "import matplotlib.pyplot as plt\n",
    "import os\n",
    "import cv2\n",
    "from sklearn.model_selection import train_test_split"
   ]
  },
  {
   "cell_type": "markdown",
   "metadata": {},
   "source": [
    "## Get the data"
   ]
  },
  {
   "cell_type": "code",
   "execution_count": 6,
   "metadata": {},
   "outputs": [
    {
     "name": "stdout",
     "output_type": "stream",
     "text": [
      "10160\n",
      "10160\n"
     ]
    }
   ],
   "source": [
    "#Get the data\n",
    "classes = 10 \n",
    "images = []\n",
    "labels = [] \n",
    "\n",
    "for i in range(0, classes):\n",
    "    imgList = os.listdir('chars74k/Data/'+str(i))\n",
    "    for j in imgList:\n",
    "        currentImg = cv2.imread('chars74k/Data/'+str(i)+'/'+str(j))\n",
    "        currentImg = cv2.resize(currentImg, (28, 28))\n",
    "        images.append(currentImg)\n",
    "        labels.append(i)\n",
    "        \n",
    "print(len(images))\n",
    "print(len(labels))"
   ]
  },
  {
   "cell_type": "code",
   "execution_count": 7,
   "metadata": {},
   "outputs": [
    {
     "name": "stdout",
     "output_type": "stream",
     "text": [
      "(10160, 28, 28, 3)\n",
      "(10160,)\n"
     ]
    }
   ],
   "source": [
    "images = np.array(images)\n",
    "labels = np.array(labels)\n",
    "print(images.shape)\n",
    "print(labels.shape)"
   ]
  },
  {
   "cell_type": "code",
   "execution_count": 8,
   "metadata": {},
   "outputs": [
    {
     "data": {
      "text/plain": [
       "<matplotlib.image.AxesImage at 0x203796fbba8>"
      ]
     },
     "execution_count": 8,
     "metadata": {},
     "output_type": "execute_result"
    },
    {
     "data": {
      "image/png": "[encoded data removed]",
      "text/plain": [
       "<Figure size 432x288 with 1 Axes>"
      ]
     },
     "metadata": {
      "needs_background": "light"
     },
     "output_type": "display_data"
    }
   ],
   "source": [
    "plt.imshow(images[2000])"
   ]
  },
  {
   "cell_type": "markdown",
   "metadata": {},
   "source": [
    "## Split the data into Train, Test and Validation Sets"
   ]
  },
  {
   "cell_type": "code",
   "execution_count": 9,
   "metadata": {},
   "outputs": [
    {
     "name": "stdout",
     "output_type": "stream",
     "text": [
      "(8128, 28, 28, 3)\n",
      "(2032, 28, 28, 3)\n"
     ]
    }
   ],
   "source": [
    "\n",
    "train_images, test_images, train_labels, test_labels = train_test_split(images, labels, test_size=0.2)\n",
    "print(train_images.shape)\n",
    "print(test_images.shape)"
   ]
  },
  {
   "cell_type": "code",
   "execution_count": 10,
   "metadata": {},
   "outputs": [
    {
     "name": "stdout",
     "output_type": "stream",
     "text": [
      "(6502, 28, 28, 3)\n",
      "(1626, 28, 28, 3)\n"
     ]
    }
   ],
   "source": [
    "\n",
    "train_images,  val_images, train_labels, val_labels = train_test_split(train_images, train_labels, test_size=0.2)\n",
    "print(train_images.shape)\n",
    "print(val_images.shape)"
   ]
  },
  {
   "cell_type": "markdown",
   "metadata": {},
   "source": [
    "## Preprocessing the data"
   ]
  },
  {
   "cell_type": "code",
   "execution_count": 11,
   "metadata": {},
   "outputs": [],
   "source": [
    "def preProcess(img):\n",
    "    img=cv2.cvtColor(img,cv2.COLOR_BGR2GRAY)\n",
    "    img=cv2.equalizeHist(img)\n",
    "    x,img=cv2.threshold(img, 127, 255, cv2.THRESH_BINARY)\n",
    "    img=img/255\n",
    "    return img\n",
    "\n",
    "train_images = np.array(list(map(preProcess, train_images)))\n",
    "test_images = np.array(list(map(preProcess, test_images)))\n",
    "val_images = np.array(list(map(preProcess, val_images)))"
   ]
  },
  {
   "cell_type": "code",
   "execution_count": 12,
   "metadata": {},
   "outputs": [
    {
     "name": "stdout",
     "output_type": "stream",
     "text": [
      "(6502, 28, 28)\n",
      "(2032, 28, 28)\n",
      "(1626, 28, 28)\n"
     ]
    }
   ],
   "source": [
    "print(train_images.shape)\n",
    "print(test_images.shape)\n",
    "print(val_images.shape)"
   ]
  },
  {
   "cell_type": "code",
   "execution_count": 13,
   "metadata": {},
   "outputs": [],
   "source": [
    "train_images = train_images.reshape(train_images.shape[0], 28, 28, 1)\n",
    "test_images = test_images.reshape(test_images.shape[0], 28, 28, 1)\n",
    "val_images = val_images.reshape(val_images.shape[0], 28, 28, 1)"
   ]
  },
  {
   "cell_type": "code",
   "execution_count": 14,
   "metadata": {},
   "outputs": [
    {
     "name": "stdout",
     "output_type": "stream",
     "text": [
      "(6502, 28, 28, 1)\n",
      "(2032, 28, 28, 1)\n",
      "(1626, 28, 28, 1)\n"
     ]
    }
   ],
   "source": [
    "print(train_images.shape)\n",
    "print(test_images.shape)\n",
    "print(val_images.shape)"
   ]
  },
  {
   "cell_type": "code",
   "execution_count": 15,
   "metadata": {},
   "outputs": [
    {
     "data": {
      "text/plain": [
       "<matplotlib.image.AxesImage at 0x2037c48cfd0>"
      ]
     },
     "execution_count": 15,
     "metadata": {},
     "output_type": "execute_result"
    },
    {
     "data": {
      "image/png": "[encoded data removed]",
      "text/plain": [
       "<Figure size 432x288 with 1 Axes>"
      ]
     },
     "metadata": {
      "needs_background": "light"
     },
     "output_type": "display_data"
    }
   ],
   "source": [
    "plt.imshow(images[200])"
   ]
  },
  {
   "cell_type": "markdown",
   "metadata": {},
   "source": [
    "## Defining Callback"
   ]
  },
  {
   "cell_type": "code",
   "execution_count": 16,
   "metadata": {},
   "outputs": [],
   "source": [
    "class myCallback(tf.keras.callbacks.Callback):\n",
    "    def on_epoch_end(self, epoch, logs={}):\n",
    "        if(logs.get('val_accuracy')>0.995):\n",
    "            print(\"\\nReached 99.5% accuracy so cancelling training!\")\n",
    "            self.model.stop_training = True"
   ]
  },
  {
   "cell_type": "markdown",
   "metadata": {},
   "source": [
    "## Creating CNN Model"
   ]
  },
  {
   "cell_type": "code",
   "execution_count": 17,
   "metadata": {},
   "outputs": [],
   "source": [
    "model = tf.keras.models.Sequential([\n",
    "                                    tf.keras.layers.Conv2D(32, (3,3), input_shape=(28, 28, 1),  activation=\"relu\"),\n",
    "                                    tf.keras.layers.MaxPooling2D(2, 2),\n",
    "                                    tf.keras.layers.Dropout(0.5),\n",
    "                                    tf.keras.layers.Conv2D(64, (3,3),  activation=\"relu\"),\n",
    "                                    tf.keras.layers.MaxPooling2D(2, 2),\n",
    "                                    tf.keras.layers.Dropout(0.5),\n",
    "                                    tf.keras.layers.Conv2D(64, (3,3),  activation=\"relu\"),\n",
    "                                    tf.keras.layers.Flatten(),\n",
    "                                    tf.keras.layers.Dense(128, activation=\"relu\"),\n",
    "                                    tf.keras.layers.Dropout(0.5),\n",
    "                                    tf.keras.layers.Dense(10,activation=tf.nn.softmax)\n",
    "])"
   ]
  },
  {
   "cell_type": "code",
   "execution_count": 18,
   "metadata": {},
   "outputs": [
    {
     "name": "stdout",
     "output_type": "stream",
     "text": [
      "Model: \"sequential\"\n",
      "_________________________________________________________________\n",
      "Layer (type)                 Output Shape              Param #   \n",
      "=================================================================\n",
      "conv2d (Conv2D)              (None, 26, 26, 32)        320       \n",
      "_________________________________________________________________\n",
      "max_pooling2d (MaxPooling2D) (None, 13, 13, 32)        0         \n",
      "_________________________________________________________________\n",
      "dropout (Dropout)            (None, 13, 13, 32)        0         \n",
      "_________________________________________________________________\n",
      "conv2d_1 (Conv2D)            (None, 11, 11, 64)        18496     \n",
      "_________________________________________________________________\n",
      "max_pooling2d_1 (MaxPooling2 (None, 5, 5, 64)          0         \n",
      "_________________________________________________________________\n",
      "dropout_1 (Dropout)          (None, 5, 5, 64)          0         \n",
      "_________________________________________________________________\n",
      "conv2d_2 (Conv2D)            (None, 3, 3, 64)          36928     \n",
      "_________________________________________________________________\n",
      "flatten (Flatten)            (None, 576)               0         \n",
      "_________________________________________________________________\n",
      "dense (Dense)                (None, 128)               73856     \n",
      "_________________________________________________________________\n",
      "dropout_2 (Dropout)          (None, 128)               0         \n",
      "_________________________________________________________________\n",
      "dense_1 (Dense)              (None, 10)                1290      \n",
      "=================================================================\n",
      "Total params: 130,890\n",
      "Trainable params: 130,890\n",
      "Non-trainable params: 0\n",
      "_________________________________________________________________\n"
     ]
    }
   ],
   "source": [
    "model.compile(optimizer='adam', \n",
    "              loss='sparse_categorical_crossentropy', \n",
    "              metrics=['accuracy'])\n",
    "model.summary()"
   ]
  },
  {
   "cell_type": "markdown",
   "metadata": {},
   "source": [
    "## Image Augmentation"
   ]
  },
  {
   "cell_type": "code",
   "execution_count": 19,
   "metadata": {},
   "outputs": [],
   "source": [
    "datagen = tf.keras.preprocessing.image.ImageDataGenerator(width_shift_range=0.1,\n",
    "                             height_shift_range=0.1,\n",
    "                             zoom_range=0.2,\n",
    "                             shear_range=0.1,\n",
    "                             rotation_range=10)"
   ]
  },
  {
   "cell_type": "markdown",
   "metadata": {},
   "source": [
    "## Training the model"
   ]
  },
  {
   "cell_type": "code",
   "execution_count": 20,
   "metadata": {},
   "outputs": [
    {
     "name": "stdout",
     "output_type": "stream",
     "text": [
      "Epoch 1/30\n",
      "204/204 [==============================] - 7s 36ms/step - loss: 1.9778 - accuracy: 0.2693 - val_loss: 0.5627 - val_accuracy: 0.8831\n",
      "Epoch 2/30\n",
      "204/204 [==============================] - 6s 31ms/step - loss: 0.7677 - accuracy: 0.7493 - val_loss: 0.1556 - val_accuracy: 0.9526\n",
      "Epoch 3/30\n",
      "204/204 [==============================] - 6s 31ms/step - loss: 0.4395 - accuracy: 0.8588 - val_loss: 0.0793 - val_accuracy: 0.9736\n",
      "Epoch 4/30\n",
      "204/204 [==============================] - 6s 31ms/step - loss: 0.3410 - accuracy: 0.8951 - val_loss: 0.0611 - val_accuracy: 0.9809\n",
      "Epoch 5/30\n",
      "204/204 [==============================] - 6s 30ms/step - loss: 0.2699 - accuracy: 0.9145 - val_loss: 0.0605 - val_accuracy: 0.9809\n",
      "Epoch 6/30\n",
      "204/204 [==============================] - 7s 32ms/step - loss: 0.2435 - accuracy: 0.9263 - val_loss: 0.0498 - val_accuracy: 0.9852\n",
      "Epoch 7/30\n",
      "204/204 [==============================] - 7s 33ms/step - loss: 0.2141 - accuracy: 0.9308 - val_loss: 0.0467 - val_accuracy: 0.9834\n",
      "Epoch 8/30\n",
      "204/204 [==============================] - 6s 31ms/step - loss: 0.2013 - accuracy: 0.9380 - val_loss: 0.0372 - val_accuracy: 0.9877\n",
      "Epoch 9/30\n",
      "204/204 [==============================] - 6s 29ms/step - loss: 0.1887 - accuracy: 0.9399 - val_loss: 0.0459 - val_accuracy: 0.9865\n",
      "Epoch 10/30\n",
      "204/204 [==============================] - 7s 33ms/step - loss: 0.1858 - accuracy: 0.9416 - val_loss: 0.0393 - val_accuracy: 0.9883\n",
      "Epoch 11/30\n",
      "204/204 [==============================] - 7s 33ms/step - loss: 0.1633 - accuracy: 0.9499 - val_loss: 0.0354 - val_accuracy: 0.9871\n",
      "Epoch 12/30\n",
      "204/204 [==============================] - 6s 29ms/step - loss: 0.1597 - accuracy: 0.9514 - val_loss: 0.0331 - val_accuracy: 0.9889\n",
      "Epoch 13/30\n",
      "204/204 [==============================] - 7s 32ms/step - loss: 0.1536 - accuracy: 0.9516 - val_loss: 0.0266 - val_accuracy: 0.9932\n",
      "Epoch 14/30\n",
      "204/204 [==============================] - 7s 33ms/step - loss: 0.1439 - accuracy: 0.9565 - val_loss: 0.0309 - val_accuracy: 0.9920\n",
      "Epoch 15/30\n",
      "204/204 [==============================] - 6s 30ms/step - loss: 0.1481 - accuracy: 0.9543 - val_loss: 0.0276 - val_accuracy: 0.9908\n",
      "Epoch 16/30\n",
      "204/204 [==============================] - 6s 31ms/step - loss: 0.1291 - accuracy: 0.9609 - val_loss: 0.0247 - val_accuracy: 0.9920\n",
      "Epoch 17/30\n",
      "204/204 [==============================] - 6s 31ms/step - loss: 0.1188 - accuracy: 0.9639 - val_loss: 0.0306 - val_accuracy: 0.9902\n",
      "Epoch 18/30\n",
      "204/204 [==============================] - 6s 30ms/step - loss: 0.1290 - accuracy: 0.9589 - val_loss: 0.0306 - val_accuracy: 0.9883\n",
      "Epoch 19/30\n",
      "204/204 [==============================] - 6s 29ms/step - loss: 0.1089 - accuracy: 0.9677 - val_loss: 0.0192 - val_accuracy: 0.9945\n",
      "Epoch 20/30\n",
      "204/204 [==============================] - 6s 29ms/step - loss: 0.1182 - accuracy: 0.9617 - val_loss: 0.0223 - val_accuracy: 0.9938\n",
      "Epoch 21/30\n",
      "204/204 [==============================] - 6s 31ms/step - loss: 0.1101 - accuracy: 0.9663 - val_loss: 0.0236 - val_accuracy: 0.9926\n",
      "Epoch 22/30\n",
      "203/204 [============================>.] - ETA: 0s - loss: 0.1203 - accuracy: 0.9620\n",
      "Reached 99.5% accuracy so cancelling training!\n",
      "204/204 [==============================] - 6s 32ms/step - loss: 0.1200 - accuracy: 0.9622 - val_loss: 0.0155 - val_accuracy: 0.9951\n"
     ]
    }
   ],
   "source": [
    "callbacks = myCallback()\n",
    "history = model.fit(datagen.flow(train_images, train_labels),\n",
    "                              epochs = 30, validation_data = (val_images, val_labels), callbacks = [callbacks])"
   ]
  },
  {
   "cell_type": "markdown",
   "metadata": {},
   "source": [
    "### Plotting Graphs"
   ]
  },
  {
   "cell_type": "code",
   "execution_count": 21,
   "metadata": {},
   "outputs": [
    {
     "data": {
      "image/png": "[encoded data removed]",
      "text/plain": [
       "<Figure size 432x288 with 1 Axes>"
      ]
     },
     "metadata": {
      "needs_background": "light"
     },
     "output_type": "display_data"
    },
    {
     "data": {
      "image/png": "[encoded data removed]",
      "text/plain": [
       "<Figure size 432x288 with 1 Axes>"
      ]
     },
     "metadata": {
      "needs_background": "light"
     },
     "output_type": "display_data"
    }
   ],
   "source": [
    "plt.figure(1)\n",
    "plt.plot(history.history['loss'])\n",
    "plt.plot(history.history['val_loss'])\n",
    "plt.legend(['Training','Validation'])\n",
    "plt.title('Loss')\n",
    "plt.xlabel('epoch')\n",
    "plt.figure(2)\n",
    "plt.plot(history.history['accuracy'])\n",
    "plt.plot(history.history['val_accuracy'])\n",
    "plt.legend(['Training','Validation'])\n",
    "plt.title('Accuracy')\n",
    "plt.xlabel('epoch')\n",
    "plt.show()"
   ]
  },
  {
   "cell_type": "markdown",
   "metadata": {},
   "source": [
    "### Evaluating the model on Test set"
   ]
  },
  {
   "cell_type": "code",
   "execution_count": 22,
   "metadata": {},
   "outputs": [
    {
     "name": "stdout",
     "output_type": "stream",
     "text": [
      "64/64 [==============================] - 1s 9ms/step - loss: 0.0169 - accuracy: 0.9946\n",
      "Test Score :  0.016867641359567642\n",
      "Test Accuracy :  0.9945865869522095\n"
     ]
    }
   ],
   "source": [
    "score = model.evaluate(test_images, test_labels, verbose=1)\n",
    "print('Test Score : ', score[0])\n",
    "print('Test Accuracy : ', score[1])"
   ]
  },
  {
   "cell_type": "markdown",
   "metadata": {},
   "source": [
    "### Saving the model"
   ]
  },
  {
   "cell_type": "code",
   "execution_count": 23,
   "metadata": {},
   "outputs": [
    {
     "name": "stdout",
     "output_type": "stream",
     "text": [
      "WARNING:tensorflow:From C:\\Users\\skppa\\AppData\\Roaming\\Python\\Python37\\site-packages\\tensorflow\\python\\training\\tracking\\tracking.py:111: Model.state_updates (from tensorflow.python.keras.engine.training) is deprecated and will be removed in a future version.\n",
      "Instructions for updating:\n",
      "This property should not be used in TensorFlow 2.0, as updates are applied automatically.\n",
      "WARNING:tensorflow:From C:\\Users\\skppa\\AppData\\Roaming\\Python\\Python37\\site-packages\\tensorflow\\python\\training\\tracking\\tracking.py:111: Layer.updates (from tensorflow.python.keras.engine.base_layer) is deprecated and will be removed in a future version.\n",
      "Instructions for updating:\n",
      "This property should not be used in TensorFlow 2.0, as updates are applied automatically.\n",
      "INFO:tensorflow:Assets written to: Digit_Recognizer\\assets\n"
     ]
    }
   ],
   "source": [
    "model.save('Digit_Recognizer')\n",
    "model.save(\"Digit_Recognizer.h5\")"
   ]
  },
  {
   "cell_type": "code",
   "execution_count": null,
   "metadata": {},
   "outputs": [],
   "source": []
  }
 ],
 "metadata": {
  "kernelspec": {
   "display_name": "Python 3",
   "language": "python",
   "name": "python3"
  },
  "language_info": {
   "codemirror_mode": {
    "name": "ipython",
    "version": 3
   },
   "file_extension": ".py",
   "mimetype": "text/x-python",
   "name": "python",
   "nbconvert_exporter": "python",
   "pygments_lexer": "ipython3",
   "version": "3.7.3"
  }
 },
 "nbformat": 4,
 "nbformat_minor": 2
}
