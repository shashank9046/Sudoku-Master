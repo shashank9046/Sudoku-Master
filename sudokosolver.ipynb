{
 "cells": [
  {
   "cell_type": "code",
   "execution_count": 45,
   "metadata": {},
   "outputs": [],
   "source": [
    "### This code implements the back backtracking algorithm to solve the recognised digits from the sudoku######\n",
    "#############################################################################################################\n",
    "def findNextCellToFill(grid, i, j): \n",
    "        for x in range(i,9):\n",
    "                for y in range(j,9):\n",
    "                        if grid[x][y] == 0:\n",
    "                                return x,y\n",
    "        for x in range(0,9):\n",
    "                for y in range(0,9):\n",
    "                        if grid[x][y] == 0:\n",
    "                                return x,y\n",
    "        return -1,-1\n",
    "\n",
    "def isValid(grid, i, j, e): #checks if the current assumed value can be filled in the cell\n",
    "        rowOk = all([e != grid[i][x] for x in range(9)])\n",
    "        if rowOk:\n",
    "                columnOk = all([e != grid[x][j] for x in range(9)])\n",
    "                if columnOk:\n",
    "                        secTopX, secTopY = 3 *(i//3), 3 *(j//3)\n",
    "                        for x in range(secTopX, secTopX+3):\n",
    "                                for y in range(secTopY, secTopY+3):\n",
    "                                        if grid[x][y] == e:\n",
    "                                                return False\n",
    "                        return True\n",
    "        return False\n",
    "\n",
    "def solveSudoku(grid, i=0, j=0):\n",
    "        i,j = findNextCellToFill(grid, i, j)\n",
    "        if i == -1:\n",
    "                return True\n",
    "        for e in range(1,10):\n",
    "                if isValid(grid,i,j,e):\n",
    "                        grid[i][j] = e\n",
    "                        if solveSudoku(grid, i, j): #########recursive backtracking function call#############\n",
    "                                return True\n",
    "                        grid[i][j] = 0\n",
    "        return False"
   ]
  },
  {
   "cell_type": "code",
   "execution_count": 46,
   "metadata": {},
   "outputs": [],
   "source": [
    "predicted_digits =[[5, 4, 0, 0, 1, 5, 5, 5, 0], [5, 0, 0, 1, 2, 5, 0, 5, 0], [0, 7, 2, 0, 0, 0, 7, 6, 5], [5, 0, 7, 7, 7, 5, 5, 7, 8], [5, 0, 5, 2, 0, 2, 5, 3, 5], [6, 0, 0, 0, 7, 7, 7, 5, 5], [0, 3, 0, 0, 5, 5, 5, 5, 5], [0, 7, 7, 2, 7, 5, 7, 5, 5], [0, 0, 5, 0, 6, 5, 3, 7, 2]]"
   ]
  },
  {
   "cell_type": "code",
   "execution_count": 47,
   "metadata": {},
   "outputs": [
    {
     "data": {
      "text/plain": [
       "True"
      ]
     },
     "execution_count": 47,
     "metadata": {},
     "output_type": "execute_result"
    }
   ],
   "source": [
    "solve(predicted_digits)"
   ]
  },
  {
   "cell_type": "code",
   "execution_count": 48,
   "metadata": {},
   "outputs": [
    {
     "data": {
      "text/plain": [
       "[[5, 4, 3, 6, 1, 5, 5, 5, 9],\n",
       " [5, 6, 8, 1, 2, 5, 4, 5, 3],\n",
       " [1, 7, 2, 3, 4, 8, 7, 6, 5],\n",
       " [5, 1, 7, 7, 7, 5, 5, 7, 8],\n",
       " [5, 8, 5, 2, 9, 2, 5, 3, 5],\n",
       " [6, 2, 4, 8, 7, 7, 7, 5, 5],\n",
       " [2, 3, 1, 9, 5, 5, 5, 5, 5],\n",
       " [4, 7, 7, 2, 7, 5, 7, 5, 5],\n",
       " [8, 9, 5, 4, 6, 5, 3, 7, 2]]"
      ]
     },
     "execution_count": 48,
     "metadata": {},
     "output_type": "execute_result"
    }
   ],
   "source": [
    "predicted_digits"
   ]
  },
  {
   "cell_type": "code",
   "execution_count": null,
   "metadata": {},
   "outputs": [],
   "source": []
  },
  {
   "cell_type": "code",
   "execution_count": null,
   "metadata": {},
   "outputs": [],
   "source": []
  }
 ],
 "metadata": {
  "kernelspec": {
   "display_name": "Python 3",
   "language": "python",
   "name": "python3"
  },
  "language_info": {
   "codemirror_mode": {
    "name": "ipython",
    "version": 3
   },
   "file_extension": ".py",
   "mimetype": "text/x-python",
   "name": "python",
   "nbconvert_exporter": "python",
   "pygments_lexer": "ipython3",
   "version": "3.7.3"
  }
 },
 "nbformat": 4,
 "nbformat_minor": 2
}
