{
 "cells": [
  {
   "cell_type": "code",
   "execution_count": 1,
   "metadata": {},
   "outputs": [],
   "source": [
    "import tensorflow as tf\n",
    "import numpy as np\n",
    "import matplotlib.pyplot as plt\n",
    "import os\n",
    "import cv2\n",
    "from sklearn.model_selection import train_test_split"
   ]
  },
  {
   "cell_type": "markdown",
   "metadata": {},
   "source": [
    "## Get the data"
   ]
  },
  {
   "cell_type": "code",
   "execution_count": null,
   "metadata": {},
   "outputs": [],
   "source": [
    "#Get the data\n",
    "classes = 10 \n",
    "images = []\n",
    "labels = [] \n",
    "\n",
    "for i in range(0, classes):\n",
    "    imgList = os.listdir('chars74k/Data/'+str(i))\n",
    "    for j in imgList:\n",
    "        currentImg = cv2.imread('chars74k/Data/'+str(i)+'/'+str(j))\n",
    "        currentImg = cv2.resize(currentImg, (28, 28))\n",
    "        images.append(currentImg)\n",
    "        labels.append(i)\n",
    "        \n",
    "print(len(images))\n",
    "print(len(labels))"
   ]
  },
  {
   "cell_type": "code",
   "execution_count": null,
   "metadata": {},
   "outputs": [],
   "source": [
    "images = np.array(images)\n",
    "labels = np.array(labels)\n",
    "print(images.shape)\n",
    "print(labels.shape)"
   ]
  },
  {
   "cell_type": "code",
   "execution_count": 5,
   "metadata": {},
   "outputs": [
    {
     "data": {
      "text/plain": [
       "<matplotlib.image.AxesImage at 0x2178b1c0370>"
      ]
     },
     "execution_count": 5,
     "metadata": {},
     "output_type": "execute_result"
    },
    {
     "data": {
      "image/png": "[encoded data removed]",
      "text/plain": [
       "<Figure size 432x288 with 1 Axes>"
      ]
     },
     "metadata": {
      "needs_background": "light"
     },
     "output_type": "display_data"
    }
   ],
   "source": [
    "plt.imshow(images[2000])"
   ]
  },
  {
   "cell_type": "markdown",
   "metadata": {},
   "source": [
    "## Split the data into Train, Test and Validation Sets"
   ]
  },
  {
   "cell_type": "code",
   "execution_count": 6,
   "metadata": {},
   "outputs": [
    {
     "name": "stdout",
     "output_type": "stream",
     "text": [
      "(8128, 28, 28, 3)\n",
      "(2032, 28, 28, 3)\n"
     ]
    }
   ],
   "source": [
    "\n",
    "train_images, test_images, train_labels, test_labels = train_test_split(images, labels, test_size=0.2)\n",
    "print(train_images.shape)\n",
    "print(test_images.shape)"
   ]
  },
  {
   "cell_type": "code",
   "execution_count": 7,
   "metadata": {},
   "outputs": [
    {
     "name": "stdout",
     "output_type": "stream",
     "text": [
      "(6502, 28, 28, 3)\n",
      "(1626, 28, 28, 3)\n"
     ]
    }
   ],
   "source": [
    "\n",
    "train_images,  val_images, train_labels, val_labels = train_test_split(train_images, train_labels, test_size=0.2)\n",
    "print(train_images.shape)\n",
    "print(val_images.shape)"
   ]
  },
  {
   "cell_type": "markdown",
   "metadata": {},
   "source": [
    "## Preprocessing the data"
   ]
  },
  {
   "cell_type": "code",
   "execution_count": 8,
   "metadata": {},
   "outputs": [],
   "source": [
    "def preProcess(img):\n",
    "    img=cv2.cvtColor(img,cv2.COLOR_BGR2GRAY)\n",
    "    img=cv2.equalizeHist(img)\n",
    "    x,img=cv2.threshold(img, 127, 255, cv2.THRESH_BINARY)\n",
    "    img=img/255\n",
    "    return img\n",
    "\n",
    "train_images = np.array(list(map(preProcess, train_images)))\n",
    "test_images = np.array(list(map(preProcess, test_images)))\n",
    "val_images = np.array(list(map(preProcess, val_images)))"
   ]
  },
  {
   "cell_type": "code",
   "execution_count": 9,
   "metadata": {},
   "outputs": [
    {
     "name": "stdout",
     "output_type": "stream",
     "text": [
      "(6502, 28, 28)\n",
      "(2032, 28, 28)\n",
      "(1626, 28, 28)\n"
     ]
    }
   ],
   "source": [
    "print(train_images.shape)\n",
    "print(test_images.shape)\n",
    "print(val_images.shape)"
   ]
  },
  {
   "cell_type": "code",
   "execution_count": 10,
   "metadata": {},
   "outputs": [],
   "source": [
    "train_images = train_images.reshape(train_images.shape[0], 28, 28, 1)\n",
    "test_images = test_images.reshape(test_images.shape[0], 28, 28, 1)\n",
    "val_images = val_images.reshape(val_images.shape[0], 28, 28, 1)"
   ]
  },
  {
   "cell_type": "code",
   "execution_count": 11,
   "metadata": {},
   "outputs": [
    {
     "name": "stdout",
     "output_type": "stream",
     "text": [
      "(6502, 28, 28, 1)\n",
      "(2032, 28, 28, 1)\n",
      "(1626, 28, 28, 1)\n"
     ]
    }
   ],
   "source": [
    "print(train_images.shape)\n",
    "print(test_images.shape)\n",
    "print(val_images.shape)"
   ]
  },
  {
   "cell_type": "code",
   "execution_count": 12,
   "metadata": {},
   "outputs": [
    {
     "data": {
      "text/plain": [
       "<matplotlib.image.AxesImage at 0x21790973370>"
      ]
     },
     "execution_count": 12,
     "metadata": {},
     "output_type": "execute_result"
    },
    {
     "data": {
      "image/png": "[encoded data removed]",
      "text/plain": [
       "<Figure size 432x288 with 1 Axes>"
      ]
     },
     "metadata": {
      "needs_background": "light"
     },
     "output_type": "display_data"
    }
   ],
   "source": [
    "plt.imshow(images[200])"
   ]
  },
  {
   "cell_type": "markdown",
   "metadata": {},
   "source": [
    "## Defining Callback"
   ]
  },
  {
   "cell_type": "code",
   "execution_count": 13,
   "metadata": {},
   "outputs": [],
   "source": [
    "class myCallback(tf.keras.callbacks.Callback):\n",
    "    def on_epoch_end(self, epoch, logs={}):\n",
    "        if(logs.get('val_accuracy')>0.995):\n",
    "            print(\"\\nReached 99.5% accuracy so cancelling training!\")\n",
    "            self.model.stop_training = True"
   ]
  },
  {
   "cell_type": "markdown",
   "metadata": {},
   "source": [
    "## Creating CNN Model"
   ]
  },
  {
   "cell_type": "code",
   "execution_count": 14,
   "metadata": {},
   "outputs": [],
   "source": [
    "model = tf.keras.models.Sequential([\n",
    "                                    tf.keras.layers.Conv2D(32, (3,3), input_shape=(28, 28, 1),  activation=\"relu\"),\n",
    "                                    tf.keras.layers.MaxPooling2D(2, 2),\n",
    "                                    tf.keras.layers.Dropout(0.5),\n",
    "                                    tf.keras.layers.Conv2D(64, (3,3),  activation=\"relu\"),\n",
    "                                    tf.keras.layers.MaxPooling2D(2, 2),\n",
    "                                    tf.keras.layers.Dropout(0.5),\n",
    "                                    tf.keras.layers.Conv2D(64, (3,3),  activation=\"relu\"),\n",
    "                                    tf.keras.layers.Flatten(),\n",
    "                                    tf.keras.layers.Dense(128, activation=\"relu\"),\n",
    "                                    tf.keras.layers.Dropout(0.5),\n",
    "                                    tf.keras.layers.Dense(10,activation=tf.nn.softmax)\n",
    "])"
   ]
  },
  {
   "cell_type": "code",
   "execution_count": 15,
   "metadata": {},
   "outputs": [
    {
     "name": "stdout",
     "output_type": "stream",
     "text": [
      "Model: \"sequential\"\n",
      "_________________________________________________________________\n",
      "Layer (type)                 Output Shape              Param #   \n",
      "=================================================================\n",
      "conv2d (Conv2D)              (None, 26, 26, 32)        320       \n",
      "_________________________________________________________________\n",
      "max_pooling2d (MaxPooling2D) (None, 13, 13, 32)        0         \n",
      "_________________________________________________________________\n",
      "dropout (Dropout)            (None, 13, 13, 32)        0         \n",
      "_________________________________________________________________\n",
      "conv2d_1 (Conv2D)            (None, 11, 11, 64)        18496     \n",
      "_________________________________________________________________\n",
      "max_pooling2d_1 (MaxPooling2 (None, 5, 5, 64)          0         \n",
      "_________________________________________________________________\n",
      "dropout_1 (Dropout)          (None, 5, 5, 64)          0         \n",
      "_________________________________________________________________\n",
      "conv2d_2 (Conv2D)            (None, 3, 3, 64)          36928     \n",
      "_________________________________________________________________\n",
      "flatten (Flatten)            (None, 576)               0         \n",
      "_________________________________________________________________\n",
      "dense (Dense)                (None, 128)               73856     \n",
      "_________________________________________________________________\n",
      "dropout_2 (Dropout)          (None, 128)               0         \n",
      "_________________________________________________________________\n",
      "dense_1 (Dense)              (None, 10)                1290      \n",
      "=================================================================\n",
      "Total params: 130,890\n",
      "Trainable params: 130,890\n",
      "Non-trainable params: 0\n",
      "_________________________________________________________________\n"
     ]
    }
   ],
   "source": [
    "model.compile(optimizer='adam', \n",
    "              loss='sparse_categorical_crossentropy', \n",
    "              metrics=['accuracy'])\n",
    "model.summary()"
   ]
  },
  {
   "cell_type": "markdown",
   "metadata": {},
   "source": [
    "## Image Augmentation"
   ]
  },
  {
   "cell_type": "code",
   "execution_count": 16,
   "metadata": {},
   "outputs": [],
   "source": [
    "datagen = tf.keras.preprocessing.image.ImageDataGenerator(width_shift_range=0.1,\n",
    "                             height_shift_range=0.1,\n",
    "                             zoom_range=0.2,\n",
    "                             shear_range=0.1,\n",
    "                             rotation_range=10)"
   ]
  },
  {
   "cell_type": "markdown",
   "metadata": {},
   "source": [
    "## Training the model"
   ]
  },
  {
   "cell_type": "code",
   "execution_count": 17,
   "metadata": {},
   "outputs": [
    {
     "name": "stdout",
     "output_type": "stream",
     "text": [
      "Epoch 1/30\n",
      "204/204 [==============================] - 3s 16ms/step - loss: 1.9350 - accuracy: 0.2893 - val_loss: 0.6093 - val_accuracy: 0.9028\n",
      "Epoch 2/30\n",
      "204/204 [==============================] - 3s 13ms/step - loss: 0.8072 - accuracy: 0.7350 - val_loss: 0.1424 - val_accuracy: 0.9625\n",
      "Epoch 3/30\n",
      "204/204 [==============================] - 3s 14ms/step - loss: 0.4898 - accuracy: 0.8431 - val_loss: 0.0806 - val_accuracy: 0.9791\n",
      "Epoch 4/30\n",
      "204/204 [==============================] - 3s 15ms/step - loss: 0.3446 - accuracy: 0.8876 - val_loss: 0.0595 - val_accuracy: 0.9822\n",
      "Epoch 5/30\n",
      "204/204 [==============================] - 3s 15ms/step - loss: 0.2844 - accuracy: 0.9093 - val_loss: 0.0531 - val_accuracy: 0.9834\n",
      "Epoch 6/30\n",
      "204/204 [==============================] - 3s 15ms/step - loss: 0.2418 - accuracy: 0.9231 - val_loss: 0.0473 - val_accuracy: 0.9828\n",
      "Epoch 7/30\n",
      "204/204 [==============================] - 4s 19ms/step - loss: 0.2320 - accuracy: 0.9288 - val_loss: 0.0375 - val_accuracy: 0.9883\n",
      "Epoch 8/30\n",
      "204/204 [==============================] - 4s 17ms/step - loss: 0.2111 - accuracy: 0.9342 - val_loss: 0.0304 - val_accuracy: 0.9920\n",
      "Epoch 9/30\n",
      "204/204 [==============================] - 3s 15ms/step - loss: 0.1939 - accuracy: 0.9373 - val_loss: 0.0292 - val_accuracy: 0.9908\n",
      "Epoch 10/30\n",
      "204/204 [==============================] - 3s 15ms/step - loss: 0.1925 - accuracy: 0.9399 - val_loss: 0.0253 - val_accuracy: 0.9914\n",
      "Epoch 11/30\n",
      "204/204 [==============================] - 3s 15ms/step - loss: 0.1715 - accuracy: 0.9492 - val_loss: 0.0321 - val_accuracy: 0.9895\n",
      "Epoch 12/30\n",
      "204/204 [==============================] - 3s 14ms/step - loss: 0.1550 - accuracy: 0.9536 - val_loss: 0.0258 - val_accuracy: 0.9926\n",
      "Epoch 13/30\n",
      "204/204 [==============================] - 3s 14ms/step - loss: 0.1577 - accuracy: 0.9477 - val_loss: 0.0298 - val_accuracy: 0.9914\n",
      "Epoch 14/30\n",
      "204/204 [==============================] - 3s 15ms/step - loss: 0.1548 - accuracy: 0.9531 - val_loss: 0.0274 - val_accuracy: 0.9914\n",
      "Epoch 15/30\n",
      "204/204 [==============================] - 3s 15ms/step - loss: 0.1444 - accuracy: 0.9543 - val_loss: 0.0257 - val_accuracy: 0.9920\n",
      "Epoch 16/30\n",
      "202/204 [============================>.] - ETA: 0s - loss: 0.1238 - accuracy: 0.9616\n",
      "Reached 99.5% accuracy so cancelling training!\n",
      "204/204 [==============================] - 3s 15ms/step - loss: 0.1238 - accuracy: 0.9617 - val_loss: 0.0186 - val_accuracy: 0.9957\n"
     ]
    }
   ],
   "source": [
    "callbacks = myCallback()\n",
    "history = model.fit(datagen.flow(train_images, train_labels),\n",
    "                              epochs = 30, validation_data = (val_images, val_labels), callbacks = [callbacks])"
   ]
  },
  {
   "cell_type": "markdown",
   "metadata": {},
   "source": [
    "### Plotting Graphs"
   ]
  },
  {
   "cell_type": "code",
   "execution_count": 18,
   "metadata": {},
   "outputs": [
    {
     "data": {
      "image/png": "[encoded data removed]",
      "text/plain": [
       "<Figure size 432x288 with 1 Axes>"
      ]
     },
     "metadata": {
      "needs_background": "light"
     },
     "output_type": "display_data"
    },
    {
     "data": {
      "image/png": "[encoded data removed]",
      "text/plain": [
       "<Figure size 432x288 with 1 Axes>"
      ]
     },
     "metadata": {
      "needs_background": "light"
     },
     "output_type": "display_data"
    }
   ],
   "source": [
    "plt.figure(1)\n",
    "plt.plot(history.history['loss'])\n",
    "plt.plot(history.history['val_loss'])\n",
    "plt.legend(['Training','Validation'])\n",
    "plt.title('Loss')\n",
    "plt.xlabel('epoch')\n",
    "plt.figure(2)\n",
    "plt.plot(history.history['accuracy'])\n",
    "plt.plot(history.history['val_accuracy'])\n",
    "plt.legend(['Training','Validation'])\n",
    "plt.title('Accuracy')\n",
    "plt.xlabel('epoch')\n",
    "plt.show()"
   ]
  },
  {
   "cell_type": "markdown",
   "metadata": {},
   "source": [
    "### Evaluating the model on Test set"
   ]
  },
  {
   "cell_type": "code",
   "execution_count": 19,
   "metadata": {},
   "outputs": [
    {
     "name": "stdout",
     "output_type": "stream",
     "text": [
      "64/64 [==============================] - 0s 3ms/step - loss: 0.0160 - accuracy: 0.9931\n",
      "Test Score :  0.016013314947485924\n",
      "Test Accuracy :  0.9931102395057678\n"
     ]
    }
   ],
   "source": [
    "score = model.evaluate(test_images, test_labels, verbose=1)\n",
    "print('Test Score : ', score[0])\n",
    "print('Test Accuracy : ', score[1])"
   ]
  },
  {
   "cell_type": "markdown",
   "metadata": {},
   "source": [
    "### Saving the model"
   ]
  },
  {
   "cell_type": "code",
   "execution_count": 20,
   "metadata": {},
   "outputs": [
    {
     "name": "stdout",
     "output_type": "stream",
     "text": [
      "WARNING:tensorflow:From c:\\users\\pranav\\appdata\\local\\programs\\python\\python38\\lib\\site-packages\\tensorflow\\python\\ops\\resource_variable_ops.py:1813: calling BaseResourceVariable.__init__ (from tensorflow.python.ops.resource_variable_ops) with constraint is deprecated and will be removed in a future version.\n",
      "Instructions for updating:\n",
      "If using Keras pass *_constraint arguments to layers.\n",
      "INFO:tensorflow:Assets written to: Digit_Recognizer\\assets\n"
     ]
    }
   ],
   "source": [
    "model.save('Digit_Recognizer')\n",
    "model.save(\"Digit_Recognizer.h5\")"
   ]
  },
  {
   "cell_type": "code",
   "execution_count": null,
   "metadata": {},
   "outputs": [],
   "source": []
  }
 ],
 "metadata": {
  "kernelspec": {
   "display_name": "Python 3",
   "language": "python",
   "name": "python3"
  },
  "language_info": {
   "codemirror_mode": {
    "name": "ipython",
    "version": 3
   },
   "file_extension": ".py",
   "mimetype": "text/x-python",
   "name": "python",
   "nbconvert_exporter": "python",
   "pygments_lexer": "ipython3",
   "version": "3.7.3"
  }
 },
 "nbformat": 4,
 "nbformat_minor": 2
}
